{
 "cells": [
  {
   "cell_type": "markdown",
   "metadata": {},
   "source": [
    "# Soru 1:\n",
    "Please form a multiplication table from user input.\n",
    "\n",
    "Example :\n",
    "\n",
    " Enter a number : 6\n",
    " 6 x 1 = 6                                                               \n",
    " 6 x 2 = 12                                                              \n",
    " 6 x 3 = 18                                                              \n",
    " 6 x 4 = 24                                                              \n",
    " 6 x 5 = 30                                                              \n",
    " 6 x 6 = 36                                                              \n",
    " 6 x 7 = 42                                                              \n",
    " 6 x 8 = 48                                                              \n",
    " 6 x 9 = 54                                                              \n",
    " 6 x 10 = 60 "
   ]
  },
  {
   "cell_type": "code",
   "execution_count": 3,
   "metadata": {},
   "outputs": [
    {
     "name": "stdout",
     "output_type": "stream",
     "text": [
      "Please enter an integer: 6\n",
      "6 x 1 =  6\n",
      "6 x 2 =  12\n",
      "6 x 3 =  18\n",
      "6 x 4 =  24\n",
      "6 x 5 =  30\n",
      "6 x 6 =  36\n",
      "6 x 7 =  42\n",
      "6 x 8 =  48\n",
      "6 x 9 =  54\n",
      "6 x 10 =  60\n"
     ]
    }
   ],
   "source": [
    "sayi=int(input(\"Please enter an integer: \"))\n",
    "\n",
    "i=1\n",
    "while i<=10:\n",
    "    print(\"{} x {} = \".format(sayi,i),sayi*i)\n",
    "    i=i+1"
   ]
  },
  {
   "cell_type": "markdown",
   "metadata": {},
   "source": [
    "# Soru 2\n",
    "Simply by using list compherension, form a list by taking square of odds numbers and by calculating cube of even numbers from 1 to 20."
   ]
  },
  {
   "cell_type": "code",
   "execution_count": 19,
   "metadata": {},
   "outputs": [
    {
     "name": "stdout",
     "output_type": "stream",
     "text": [
      "Odd numbers:  [1, 9, 25, 49, 81, 121, 169, 225, 289, 361]\n",
      "Even numbers:  [8, 64, 216, 512, 1000, 1728, 2744, 4096, 5832, 8000]\n"
     ]
    }
   ],
   "source": [
    "odd=list()\n",
    "even=list()\n",
    "\n",
    "for i in range(1,21):\n",
    "    if i%2==0:\n",
    "        even.append(i**3)\n",
    "    elif i%2!=0:\n",
    "        odd.append(i**2)\n",
    "print(\"Odd numbers: \",odd)\n",
    "print(\"Even numbers: \",even)\n",
    "        \n"
   ]
  },
  {
   "cell_type": "markdown",
   "metadata": {},
   "source": [
    "# Soru 3:\n",
    "Please type a code that inverts the initial user input.\n",
    "\n",
    "Example : \"automobile\" --> \"elibomotua\""
   ]
  },
  {
   "cell_type": "code",
   "execution_count": 26,
   "metadata": {},
   "outputs": [
    {
     "name": "stdout",
     "output_type": "stream",
     "text": [
      "Please enter a string: afranur\n",
      "runarfa\n"
     ]
    }
   ],
   "source": [
    "text1=input(\"Please enter a string: \")\n",
    "text2=str()\n",
    "i=len(text1)-1\n",
    "\n",
    "while i>=0:\n",
    "    text2=text2+text1[i]\n",
    "    i=i-1\n",
    "print(text2)\n"
   ]
  },
  {
   "cell_type": "markdown",
   "metadata": {},
   "source": [
    "# Soru 4:\n",
    "Using range(1, 201), make two lists. One is containing all even numbers and the other containing all odd numbers."
   ]
  },
  {
   "cell_type": "code",
   "execution_count": 29,
   "metadata": {},
   "outputs": [
    {
     "name": "stdout",
     "output_type": "stream",
     "text": [
      "Odd numbers:  [1, 3, 5, 7, 9, 11, 13, 15, 17, 19, 21, 23, 25, 27, 29, 31, 33, 35, 37, 39, 41, 43, 45, 47, 49, 51, 53, 55, 57, 59, 61, 63, 65, 67, 69, 71, 73, 75, 77, 79, 81, 83, 85, 87, 89, 91, 93, 95, 97, 99, 101, 103, 105, 107, 109, 111, 113, 115, 117, 119, 121, 123, 125, 127, 129, 131, 133, 135, 137, 139, 141, 143, 145, 147, 149, 151, 153, 155, 157, 159, 161, 163, 165, 167, 169, 171, 173, 175, 177, 179, 181, 183, 185, 187, 189, 191, 193, 195, 197, 199] \n",
      "\n",
      "Even numbers:  [2, 4, 6, 8, 10, 12, 14, 16, 18, 20, 22, 24, 26, 28, 30, 32, 34, 36, 38, 40, 42, 44, 46, 48, 50, 52, 54, 56, 58, 60, 62, 64, 66, 68, 70, 72, 74, 76, 78, 80, 82, 84, 86, 88, 90, 92, 94, 96, 98, 100, 102, 104, 106, 108, 110, 112, 114, 116, 118, 120, 122, 124, 126, 128, 130, 132, 134, 136, 138, 140, 142, 144, 146, 148, 150, 152, 154, 156, 158, 160, 162, 164, 166, 168, 170, 172, 174, 176, 178, 180, 182, 184, 186, 188, 190, 192, 194, 196, 198, 200]\n"
     ]
    }
   ],
   "source": [
    "even_number=list()\n",
    "odd_number=list()\n",
    "\n",
    "for i in range(1,201):\n",
    "    if i%2!=0:\n",
    "        odd_number.append(i)\n",
    "    elif i%2==0:\n",
    "        even_number.append(i)\n",
    "print(\"Odd numbers: \",odd_number,\"\\n\")\n",
    "print(\"Even numbers: \", even_number)\n"
   ]
  },
  {
   "cell_type": "markdown",
   "metadata": {},
   "source": [
    "# Soru 5:\n",
    "Define a function called count that has two arguments called sequence and item. Return the number of times the item occurs in the list.\n",
    "Example:\n",
    "\n",
    "count([1,2,1,1], 1)\n",
    "It should return 3. Because 1 appears 3 times in the list."
   ]
  },
  {
   "cell_type": "code",
   "execution_count": 48,
   "metadata": {},
   "outputs": [],
   "source": [
    "def count(sequence,item):\n",
    "    times=0\n",
    "    for i in range(len(sequence)):\n",
    "        if item==sequence[i]:\n",
    "            times=times+1\n",
    "    return times\n",
    "            \n",
    "    "
   ]
  },
  {
   "cell_type": "code",
   "execution_count": 51,
   "metadata": {},
   "outputs": [
    {
     "data": {
      "text/plain": [
       "6"
      ]
     },
     "execution_count": 51,
     "metadata": {},
     "output_type": "execute_result"
    }
   ],
   "source": [
    "count([1,2,1,1,2,2,2,2,2], 2)"
   ]
  },
  {
   "cell_type": "markdown",
   "metadata": {},
   "source": [
    "# Soru 6:\n",
    "Write a function called digit_sum that takes a positive integer n as input and returns the sum of all that number's digits as a single-digit number.\n",
    "\n",
    "Example:\n",
    "\n",
    " 27684 --> 2 + 7 + 6 + 8 + 4 = 27 --> 2 + 7 = 9<br>"
   ]
  },
  {
   "cell_type": "code",
   "execution_count": 85,
   "metadata": {},
   "outputs": [],
   "source": [
    "def digit_sum(n):\n",
    "    num_str = str(n)\n",
    "    toplam = 0\n",
    "    for i in range(0, len(num_str)):\n",
    "        toplam += int(num_str[i])\n",
    "        \n",
    "    return toplam"
   ]
  },
  {
   "cell_type": "code",
   "execution_count": 86,
   "metadata": {},
   "outputs": [
    {
     "data": {
      "text/plain": [
       "15"
      ]
     },
     "execution_count": 86,
     "metadata": {},
     "output_type": "execute_result"
    }
   ],
   "source": [
    "digit_sum(12345)"
   ]
  },
  {
   "cell_type": "markdown",
   "metadata": {},
   "source": [
    "# Soru 7:\n",
    "Write a program to find greatest common divisor (GCD) or highest common factor (HCF) of given two numbers."
   ]
  },
  {
   "cell_type": "code",
   "execution_count": 30,
   "metadata": {},
   "outputs": [
    {
     "name": "stdout",
     "output_type": "stream",
     "text": [
      "Sayı1: 4\n",
      "Sayı2: 40\n",
      "Ebob:  4\n"
     ]
    }
   ],
   "source": [
    "sayı1=int(input(\"Sayı1: \"))\n",
    "sayı2=int(input(\"Sayı2: \"))\n",
    "i=1\n",
    "ebob=1\n",
    "\n",
    "while (i<=sayı1 and i<=sayı2):\n",
    "    if (not (sayı1%i) and not (sayı2%i)):\n",
    "        ebob=i\n",
    "    i+=1\n",
    "print(\"Ebob: \",ebob)"
   ]
  },
  {
   "cell_type": "markdown",
   "metadata": {},
   "source": [
    "# Soru 8:\n",
    "Write a Python program that iterates integers from 1 to 50. For multiples of three print fizz instead of the number and for the multiples of five print buzz. For numbers which are multiples of both three and five print fizzbuzz."
   ]
  },
  {
   "cell_type": "code",
   "execution_count": 31,
   "metadata": {},
   "outputs": [
    {
     "name": "stdout",
     "output_type": "stream",
     "text": [
      "Multiples of three: ['fizz', 'fizz', 'fizz', 'fizz', 'fizz', 'fizz', 'fizz', 'fizz', 'fizz', 'fizz', 'fizz', 'fizz', 'fizz', 'fizz', 'fizz', 'fizz'] \n",
      "\n",
      "Multiples of five: ['buzz', 'buzz', 'buzz', 'buzz', 'buzz', 'buzz', 'buzz', 'buzz', 'buzz'] \n",
      "\n",
      "Multiples of both three and five: ['fizzbuzz', 'fizzbuzz', 'fizzbuzz']\n"
     ]
    }
   ],
   "source": [
    "mult_three=[]\n",
    "mult_five=[]\n",
    "three_five=[]\n",
    "\n",
    "for i in range(1,50):\n",
    "    if i%3==0:\n",
    "        mult_three.append(\"fizz\")\n",
    "print(\"Multiples of three: {}\".format(mult_three),\"\\n\")\n",
    "    \n",
    "for i in range(1,50):\n",
    "    if i%5==0:\n",
    "        mult_five.append(\"buzz\")\n",
    "print(\"Multiples of five: {}\".format(mult_five),\"\\n\")\n",
    "    \n",
    "for i in range(1,50):   \n",
    "    if i%3==0 and i%5==0:\n",
    "        three_five.append(\"fizzbuzz\")\n",
    "print(\"Multiples of both three and five: {}\".format(three_five))"
   ]
  },
  {
   "cell_type": "markdown",
   "metadata": {},
   "source": [
    "# Soru 9:\n",
    "Please form a list out of Fibonacci numbers from 1 to 50. The first two Fibonacci numbers are 1. The next numbers are the sum of the previous two."
   ]
  },
  {
   "cell_type": "code",
   "execution_count": 32,
   "metadata": {},
   "outputs": [
    {
     "name": "stdout",
     "output_type": "stream",
     "text": [
      "Fibonacci numbers [1, 1, 2, 3, 5, 8, 13, 21, 34, 55, 89, 144, 233, 377, 610, 987, 1597, 2584, 4181, 6765, 10946, 17711, 28657, 46368, 75025, 121393, 196418, 317811, 514229, 832040, 1346269, 2178309, 3524578, 5702887, 9227465, 14930352, 24157817, 39088169, 63245986, 102334155, 165580141, 267914296, 433494437, 701408733, 1134903170, 1836311903, 2971215073, 4807526976, 7778742049, 12586269025, 20365011074] dir\n"
     ]
    }
   ],
   "source": [
    "a=1\n",
    "b=1\n",
    "fibonacci=[a,b]\n",
    "\n",
    "for i in range(1,50):\n",
    "    a,b=b,a+b\n",
    "    fibonacci.append(b)\n",
    "print(\"Fibonacci numbers {} dir\".format(fibonacci))\n"
   ]
  }
 ],
 "metadata": {
  "kernelspec": {
   "display_name": "Python 3",
   "language": "python",
   "name": "python3"
  },
  "language_info": {
   "codemirror_mode": {
    "name": "ipython",
    "version": 3
   },
   "file_extension": ".py",
   "mimetype": "text/x-python",
   "name": "python",
   "nbconvert_exporter": "python",
   "pygments_lexer": "ipython3",
   "version": "3.7.3"
  }
 },
 "nbformat": 4,
 "nbformat_minor": 2
}
